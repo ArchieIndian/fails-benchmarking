{
 "cells": [
  {
   "cell_type": "code",
   "execution_count": 1,
   "metadata": {},
   "outputs": [
    {
     "name": "stderr",
     "output_type": "stream",
     "text": [
      "Failed to load GPU Faiss: No module named swigfaiss_gpu\n",
      "Faiss falling back to CPU-only.\n"
     ]
    }
   ],
   "source": [
    "import pandas as pd\n",
    "import numpy as numpy\n",
    "import faiss\n",
    "import matplotlib.pyplot as plt\n",
    "%matplotlib inline"
   ]
  },
  {
   "cell_type": "code",
   "execution_count": 2,
   "metadata": {},
   "outputs": [],
   "source": [
    "mat = numpy.load('filtered_wordvecs.npy')"
   ]
  },
  {
   "cell_type": "code",
   "execution_count": 3,
   "metadata": {},
   "outputs": [],
   "source": [
    "words = pd.read_csv('vocabulary.txt')"
   ]
  },
  {
   "cell_type": "code",
   "execution_count": 4,
   "metadata": {},
   "outputs": [],
   "source": [
    "words.columns = ['idf']"
   ]
  },
  {
   "cell_type": "code",
   "execution_count": 5,
   "metadata": {},
   "outputs": [],
   "source": [
    "from sklearn.neighbors import NearestNeighbors"
   ]
  },
  {
   "cell_type": "code",
   "execution_count": 11,
   "metadata": {},
   "outputs": [],
   "source": [
    "neigh = NearestNeighbors(n_neighbors=5,p=2, n_jobs=1)"
   ]
  },
  {
   "cell_type": "code",
   "execution_count": 18,
   "metadata": {},
   "outputs": [],
   "source": [
    "import timeit"
   ]
  },
  {
   "cell_type": "code",
   "execution_count": 19,
   "metadata": {},
   "outputs": [],
   "source": [
    "start_time = timeit.default_timer()\n",
    "neigh.fit(mat) \n",
    "time_taken = timeit.default_timer() - start_time"
   ]
  },
  {
   "cell_type": "code",
   "execution_count": 20,
   "metadata": {},
   "outputs": [
    {
     "name": "stdout",
     "output_type": "stream",
     "text": [
      "14.8850550652\n"
     ]
    }
   ],
   "source": [
    "print time_taken"
   ]
  },
  {
   "cell_type": "code",
   "execution_count": 26,
   "metadata": {},
   "outputs": [
    {
     "data": {
      "text/plain": [
       "(array([[ 0.        ,  2.7634916 ,  2.81725997,  2.82374094,  2.84032192],\n",
       "        [ 0.        ,  0.93499152,  1.03169424,  1.1168656 ,  1.13904639],\n",
       "        [ 0.        ,  1.25218443,  1.25230258,  1.26372995,  1.26402905],\n",
       "        [ 0.        ,  3.32038769,  3.57210382,  3.61269729,  3.62478716],\n",
       "        [ 0.        ,  0.82289595,  0.98526206,  1.0203347 ,  1.03942341]]),\n",
       " array([[     0,     26,     40,  17477,     14],\n",
       "        [     1,     79,     22,  95768,     52],\n",
       "        [     2,  88598, 108078,  75544,  25296],\n",
       "        [     3, 123540, 136579, 163603, 198062],\n",
       "        [     4,     14,     26,     40,     51]]))"
      ]
     },
     "execution_count": 26,
     "metadata": {},
     "output_type": "execute_result"
    }
   ],
   "source": [
    "start_time = timeit.default_timer()\n",
    "neigh.kneighbors(mat[0:5,], 5, return_distance=True)\n"
   ]
  },
  {
   "cell_type": "code",
   "execution_count": 27,
   "metadata": {},
   "outputs": [
    {
     "name": "stdout",
     "output_type": "stream",
     "text": [
      "1.01007294655\n"
     ]
    }
   ],
   "source": [
    "start_time = timeit.default_timer()\n",
    "neigh.kneighbors(mat[0:5,], 5, return_distance=True)\n",
    "time_taken = timeit.default_timer() - start_time\n",
    "print time_taken"
   ]
  },
  {
   "cell_type": "code",
   "execution_count": 28,
   "metadata": {},
   "outputs": [],
   "source": [
    "import faiss"
   ]
  },
  {
   "cell_type": "code",
   "execution_count": 29,
   "metadata": {},
   "outputs": [],
   "source": [
    "start_time = timeit.default_timer()\n",
    "index = faiss.IndexFlatL2(300)   # build the index\n",
    "# print index.is_trained\n",
    "xb = mat.astype('float32')\n",
    "xq = mat.astype('float32')\n",
    "index.add(xb)\n",
    "time_taken = timeit.default_timer() - start_time"
   ]
  },
  {
   "cell_type": "code",
   "execution_count": 30,
   "metadata": {},
   "outputs": [
    {
     "name": "stdout",
     "output_type": "stream",
     "text": [
      "0.326766014099\n"
     ]
    }
   ],
   "source": [
    "print time_taken"
   ]
  },
  {
   "cell_type": "code",
   "execution_count": 31,
   "metadata": {},
   "outputs": [
    {
     "name": "stdout",
     "output_type": "stream",
     "text": [
      "0.0846600532532\n",
      "[[     0     26     40  17477     14]\n",
      " [     1     79     22  95768     52]\n",
      " [     2  88598 108078  75544  25296]\n",
      " [     3 123540 136579 163603 198062]\n",
      " [     4     14     26     40     51]]\n",
      "[[  0.           7.63688564   7.93695307   7.97351217   8.06742764]\n",
      " [  0.           0.87420905   1.06439281   1.2473886    1.29742646]\n",
      " [  0.           1.56796563   1.56826138   1.59701324   1.59776926]\n",
      " [  0.          11.02497292  12.75992489  13.05158043  13.13908005]\n",
      " [  0.           0.6771577    0.97074127   1.04108286   1.08040094]]\n"
     ]
    }
   ],
   "source": [
    "k = 5                          # we want to see 4 nearest neighbors\n",
    "start_time = timeit.default_timer()\n",
    "D, I = index.search(xb[:5], k) # sanity check\n",
    "time_taken = timeit.default_timer() - start_time\n",
    "print time_taken\n",
    "print I\n",
    "print D"
   ]
  },
  {
   "cell_type": "code",
   "execution_count": null,
   "metadata": {},
   "outputs": [],
   "source": []
  }
 ],
 "metadata": {
  "kernelspec": {
   "display_name": "Python 2",
   "language": "python",
   "name": "python2"
  },
  "language_info": {
   "codemirror_mode": {
    "name": "ipython",
    "version": 2
   },
   "file_extension": ".py",
   "mimetype": "text/x-python",
   "name": "python",
   "nbconvert_exporter": "python",
   "pygments_lexer": "ipython2",
   "version": "2.7.12"
  }
 },
 "nbformat": 4,
 "nbformat_minor": 2
}
