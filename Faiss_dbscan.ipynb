{
 "cells": [
  {
   "cell_type": "code",
   "execution_count": 38,
   "metadata": {},
   "outputs": [],
   "source": [
    "import pandas as pd\n",
    "import numpy as numpy\n",
    "import faiss\n",
    "import matplotlib.pyplot as plt\n",
    "%matplotlib inline"
   ]
  },
  {
   "cell_type": "code",
   "execution_count": 39,
   "metadata": {},
   "outputs": [],
   "source": [
    "mat = numpy.load('filtered_wordvecs.npy')"
   ]
  },
  {
   "cell_type": "code",
   "execution_count": 40,
   "metadata": {},
   "outputs": [
    {
     "data": {
      "text/plain": [
       "array([[  1.52343750e-01,  -1.21093750e-01,   1.02050781e-01, ...,\n",
       "          1.37939453e-02,  -5.73730469e-02,   2.77343750e-01],\n",
       "       [ -7.03125000e-02,   1.40380859e-03,  -1.25000000e-01, ...,\n",
       "         -5.71289062e-02,   1.39160156e-02,  -1.53808594e-02],\n",
       "       [  2.40325928e-04,   1.66320801e-03,  -2.44140625e-02, ...,\n",
       "         -6.64062500e-02,  -4.12597656e-02,   1.48437500e-01],\n",
       "       ..., \n",
       "       [  1.62109375e-01,   1.81640625e-01,  -6.20117188e-02, ...,\n",
       "         -9.32617188e-02,   7.08007812e-02,  -8.25195312e-02],\n",
       "       [  2.44140625e-02,  -4.17480469e-02,  -5.29785156e-02, ...,\n",
       "         -1.50146484e-02,   2.24609375e-02,   1.33056641e-02],\n",
       "       [  3.22265625e-01,  -1.09375000e-01,  -4.02343750e-01, ...,\n",
       "          1.18652344e-01,   1.10351562e-01,   2.39257812e-01]])"
      ]
     },
     "execution_count": 40,
     "metadata": {},
     "output_type": "execute_result"
    }
   ],
   "source": [
    "mat[0:100,]"
   ]
  },
  {
   "cell_type": "code",
   "execution_count": 41,
   "metadata": {},
   "outputs": [],
   "source": [
    "words = pd.read_csv('vocabulary.txt')"
   ]
  },
  {
   "cell_type": "code",
   "execution_count": 42,
   "metadata": {},
   "outputs": [],
   "source": [
    "words.columns = ['idf']"
   ]
  },
  {
   "cell_type": "code",
   "execution_count": 43,
   "metadata": {},
   "outputs": [
    {
     "data": {
      "text/html": [
       "<div>\n",
       "<style>\n",
       "    .dataframe thead tr:only-child th {\n",
       "        text-align: right;\n",
       "    }\n",
       "\n",
       "    .dataframe thead th {\n",
       "        text-align: left;\n",
       "    }\n",
       "\n",
       "    .dataframe tbody tr th {\n",
       "        vertical-align: top;\n",
       "    }\n",
       "</style>\n",
       "<table border=\"1\" class=\"dataframe\">\n",
       "  <thead>\n",
       "    <tr style=\"text-align: right;\">\n",
       "      <th></th>\n",
       "      <th>idf</th>\n",
       "    </tr>\n",
       "  </thead>\n",
       "  <tbody>\n",
       "    <tr>\n",
       "      <th>0</th>\n",
       "      <td>0ER</td>\n",
       "    </tr>\n",
       "    <tr>\n",
       "      <th>1</th>\n",
       "      <td>0S</td>\n",
       "    </tr>\n",
       "    <tr>\n",
       "      <th>2</th>\n",
       "      <td>0s</td>\n",
       "    </tr>\n",
       "  </tbody>\n",
       "</table>\n",
       "</div>"
      ],
      "text/plain": [
       "   idf\n",
       "0  0ER\n",
       "1   0S\n",
       "2   0s"
      ]
     },
     "execution_count": 43,
     "metadata": {},
     "output_type": "execute_result"
    }
   ],
   "source": [
    "words.head(3)"
   ]
  },
  {
   "cell_type": "code",
   "execution_count": 44,
   "metadata": {},
   "outputs": [],
   "source": [
    "def MyDBSCAN(D, eps, MinPts,method):\n",
    "    \"\"\"\n",
    "    Cluster the dataset `D` using the DBSCAN algorithm.\n",
    "    \n",
    "    MyDBSCAN takes a dataset `D` (a list of vectors), a threshold distance\n",
    "    `eps`, and a required number of points `MinPts`.\n",
    "    \n",
    "    It will return a list of cluster labels. The label -1 means noise, and then\n",
    "    the clusters are numbered starting from 1.\n",
    "    \"\"\"\n",
    " \n",
    "    # This list will hold the final cluster assignment for each point in D.\n",
    "    # There are two reserved values:\n",
    "    #    -1 - Indicates a noise point\n",
    "    #     0 - Means the point hasn't been considered yet.\n",
    "    # Initially all labels are 0.    \n",
    "    labels = [0]*len(D)\n",
    "\n",
    "    # C is the ID of the current cluster.    \n",
    "    C = 0\n",
    "    \n",
    "    # This outer loop is just responsible for picking new seed points--a point\n",
    "    # from which to grow a new cluster.\n",
    "    # Once a valid seed point is found, a new cluster is created, and the \n",
    "    # cluster growth is all handled by the 'expandCluster' routine.\n",
    "    \n",
    "    # For each point P in the Dataset D...\n",
    "    # ('P' is the index of the datapoint, rather than the datapoint itself.)\n",
    "    for P in range(0, len(D)):\n",
    "    \n",
    "        # Only points that have not already been claimed can be picked as new \n",
    "        # seed points.    \n",
    "        # If the point's label is not 0, continue to the next point.\n",
    "        if not (labels[P] == 0):\n",
    "           continue\n",
    "        \n",
    "        # Find all of P's neighboring points.\n",
    "        NeighborPts = regionQuery(D, P, eps,method,index)\n",
    "        ###################################################################################\n",
    "        # If the number is below MinPts, this point is noise. \n",
    "        # This is the only condition under which a point is labeled \n",
    "        # NOISE--when it's not a valid seed point. A NOISE point may later \n",
    "        # be picked up by another cluster as a boundary point (this is the only\n",
    "        # condition under which a cluster label can change--from NOISE to \n",
    "        # something else).\n",
    "        if len(NeighborPts) < MinPts:\n",
    "            labels[P] = -1\n",
    "        # Otherwise, if there are at least MinPts nearby, use this point as the \n",
    "        # seed for a new cluster.    \n",
    "        else: \n",
    "           C += 1\n",
    "           growCluster(D, labels, P, NeighborPts, C, eps, MinPts,method)\n",
    "    \n",
    "    # All data has been clustered!\n",
    "    return labels\n"
   ]
  },
  {
   "cell_type": "code",
   "execution_count": 45,
   "metadata": {},
   "outputs": [],
   "source": [
    "def growCluster(D, labels, P, NeighborPts, C, eps, MinPts,method):\n",
    "    \"\"\"\n",
    "    Grow a new cluster with label `C` from the seed point `P`.\n",
    "    \n",
    "    This function searches through the dataset to find all points that belong\n",
    "    to this new cluster. When this function returns, cluster `C` is complete.\n",
    "    \n",
    "    Parameters:\n",
    "      `D`      - The dataset (a list of vectors)\n",
    "      `labels` - List storing the cluster labels for all dataset points\n",
    "      `P`      - Index of the seed point for this new cluster\n",
    "      `NeighborPts` - All of the neighbors of `P`\n",
    "      `C`      - The label for this new cluster.  \n",
    "      `eps`    - Threshold distance\n",
    "      `MinPts` - Minimum required number of neighbors\n",
    "    \"\"\"\n",
    "\n",
    "    # Assign the cluster label to the seed point.\n",
    "    labels[P] = C\n",
    "    \n",
    "    # Look at each neighbor of P (neighbors are referred to as Pn). \n",
    "    # NeighborPts will be used as a FIFO queue of points to search--that is, it\n",
    "    # will grow as we discover new branch points for the cluster. The FIFO\n",
    "    # behavior is accomplished by using a while-loop rather than a for-loop.\n",
    "    # In NeighborPts, the points are represented by their index in the original\n",
    "    # dataset.\n",
    "    i = 0\n",
    "    while i < len(NeighborPts):    \n",
    "        \n",
    "        # Get the next point from the queue.        \n",
    "        Pn = NeighborPts[i]\n",
    "       \n",
    "        # If Pn was labelled NOISE during the seed search, then we\n",
    "        # know it's not a branch point (it doesn't have enough neighbors), so\n",
    "        # make it a leaf point of cluster C and move on.\n",
    "        if labels[Pn] == -1:\n",
    "           labels[Pn] = C\n",
    "        \n",
    "        # Otherwise, if Pn isn't already claimed, claim it as part of C.\n",
    "        elif labels[Pn] == 0:\n",
    "            # Add Pn to cluster C (Assign cluster label C).\n",
    "            labels[Pn] = C\n",
    "            \n",
    "            # Find all the neighbors of Pn\n",
    "            PnNeighborPts = regionQuery(D, Pn, eps,method)\n",
    "            \n",
    "            # If Pn has at least MinPts neighbors, it's a branch point!\n",
    "            # Add all of its neighbors to the FIFO queue to be searched. \n",
    "            if len(PnNeighborPts) >= MinPts:\n",
    "                NeighborPts = NeighborPts + PnNeighborPts\n",
    "            # If Pn *doesn't* have enough neighbors, then it's a leaf point.\n",
    "            # Don't queue up it's neighbors as expansion points.\n",
    "            #else:\n",
    "                # Do nothing                \n",
    "                #NeighborPts = NeighborPts               \n",
    "        \n",
    "        # Advance to the next point in the FIFO queue.\n",
    "        i += 1        \n",
    "    \n",
    "    # We've finished growing cluster C!\n",
    "\n"
   ]
  },
  {
   "cell_type": "code",
   "execution_count": 46,
   "metadata": {},
   "outputs": [],
   "source": [
    "def regionQuery(D, P, eps,method):\n",
    "    \"\"\"\n",
    "    Find all points in dataset `D` within distance `eps` of point `P`.\n",
    "    \n",
    "    This function calculates the distance between a point P and every other \n",
    "    point in the dataset, and then returns only those points which are within a\n",
    "    threshold distance `eps`.\n",
    "    \"\"\"\n",
    "    neighbors = []\n",
    "    \n",
    "    # For each point in the dataset...\n",
    "    for Pn in range(0, len(D)):\n",
    "        \n",
    "        # If the distance is below the threshold, add it to the neighbors list.\n",
    "        if method == 1:\n",
    "            \n",
    "            if numpy.linalg.norm(D[P] - D[Pn]) < eps:\n",
    "               neighbors.append(Pn)\n",
    "            \n",
    "    return neighbors"
   ]
  },
  {
   "cell_type": "code",
   "execution_count": 47,
   "metadata": {},
   "outputs": [
    {
     "name": "stdout",
     "output_type": "stream",
     "text": [
      "10 loops, best of 3: 40.1 ms per loop\n"
     ]
    }
   ],
   "source": [
    "%timeit new_labels_100 = MyDBSCAN(mat[0:100,],eps=1,MinPts=2,method=1)"
   ]
  },
  {
   "cell_type": "code",
   "execution_count": 48,
   "metadata": {},
   "outputs": [],
   "source": [
    "#If I take 10000 data points, it takes forever to run\n",
    "import timeit\n",
    "results = {}\n",
    "time_df = pd.DataFrame(columns = ['num_points','eps','time_taken'])\n",
    "i = 0\n",
    "for num_points in [100,1000]:\n",
    "    for eps in [0.01,0.1,0.2,0.5,0.7,1,2,5,7,10,20,50,70,100]:\n",
    "        start_time = timeit.default_timer()\n",
    "        results['{}'.format(i)] = MyDBSCAN(mat[0:num_points,],eps=eps,MinPts=2, method =1)\n",
    "        time_taken = timeit.default_timer() - start_time\n",
    "        time_df = time_df.append({\"num_points\": num_points,\"eps\": eps, \"time_taken\":time_taken }, ignore_index=True)\n",
    "        i = i +1"
   ]
  },
  {
   "cell_type": "code",
   "execution_count": 49,
   "metadata": {},
   "outputs": [
    {
     "data": {
      "text/html": [
       "<div>\n",
       "<style>\n",
       "    .dataframe thead tr:only-child th {\n",
       "        text-align: right;\n",
       "    }\n",
       "\n",
       "    .dataframe thead th {\n",
       "        text-align: left;\n",
       "    }\n",
       "\n",
       "    .dataframe tbody tr th {\n",
       "        vertical-align: top;\n",
       "    }\n",
       "</style>\n",
       "<table border=\"1\" class=\"dataframe\">\n",
       "  <thead>\n",
       "    <tr style=\"text-align: right;\">\n",
       "      <th></th>\n",
       "      <th>num_points</th>\n",
       "      <th>eps</th>\n",
       "      <th>time_taken</th>\n",
       "    </tr>\n",
       "  </thead>\n",
       "  <tbody>\n",
       "    <tr>\n",
       "      <th>0</th>\n",
       "      <td>100.0</td>\n",
       "      <td>0.01</td>\n",
       "      <td>0.048771</td>\n",
       "    </tr>\n",
       "    <tr>\n",
       "      <th>1</th>\n",
       "      <td>100.0</td>\n",
       "      <td>0.10</td>\n",
       "      <td>0.044729</td>\n",
       "    </tr>\n",
       "    <tr>\n",
       "      <th>2</th>\n",
       "      <td>100.0</td>\n",
       "      <td>0.20</td>\n",
       "      <td>0.039506</td>\n",
       "    </tr>\n",
       "    <tr>\n",
       "      <th>3</th>\n",
       "      <td>100.0</td>\n",
       "      <td>0.50</td>\n",
       "      <td>0.038775</td>\n",
       "    </tr>\n",
       "    <tr>\n",
       "      <th>4</th>\n",
       "      <td>100.0</td>\n",
       "      <td>0.70</td>\n",
       "      <td>0.038763</td>\n",
       "    </tr>\n",
       "    <tr>\n",
       "      <th>5</th>\n",
       "      <td>100.0</td>\n",
       "      <td>1.00</td>\n",
       "      <td>0.043771</td>\n",
       "    </tr>\n",
       "    <tr>\n",
       "      <th>6</th>\n",
       "      <td>100.0</td>\n",
       "      <td>2.00</td>\n",
       "      <td>0.045126</td>\n",
       "    </tr>\n",
       "    <tr>\n",
       "      <th>7</th>\n",
       "      <td>100.0</td>\n",
       "      <td>5.00</td>\n",
       "      <td>0.043366</td>\n",
       "    </tr>\n",
       "    <tr>\n",
       "      <th>8</th>\n",
       "      <td>100.0</td>\n",
       "      <td>7.00</td>\n",
       "      <td>0.041805</td>\n",
       "    </tr>\n",
       "    <tr>\n",
       "      <th>9</th>\n",
       "      <td>100.0</td>\n",
       "      <td>10.00</td>\n",
       "      <td>0.041279</td>\n",
       "    </tr>\n",
       "    <tr>\n",
       "      <th>10</th>\n",
       "      <td>100.0</td>\n",
       "      <td>20.00</td>\n",
       "      <td>0.043607</td>\n",
       "    </tr>\n",
       "    <tr>\n",
       "      <th>11</th>\n",
       "      <td>100.0</td>\n",
       "      <td>50.00</td>\n",
       "      <td>0.049361</td>\n",
       "    </tr>\n",
       "    <tr>\n",
       "      <th>12</th>\n",
       "      <td>100.0</td>\n",
       "      <td>70.00</td>\n",
       "      <td>0.055327</td>\n",
       "    </tr>\n",
       "    <tr>\n",
       "      <th>13</th>\n",
       "      <td>100.0</td>\n",
       "      <td>100.00</td>\n",
       "      <td>0.055775</td>\n",
       "    </tr>\n",
       "    <tr>\n",
       "      <th>14</th>\n",
       "      <td>1000.0</td>\n",
       "      <td>0.01</td>\n",
       "      <td>3.957136</td>\n",
       "    </tr>\n",
       "    <tr>\n",
       "      <th>15</th>\n",
       "      <td>1000.0</td>\n",
       "      <td>0.10</td>\n",
       "      <td>3.839509</td>\n",
       "    </tr>\n",
       "    <tr>\n",
       "      <th>16</th>\n",
       "      <td>1000.0</td>\n",
       "      <td>0.20</td>\n",
       "      <td>3.855697</td>\n",
       "    </tr>\n",
       "    <tr>\n",
       "      <th>17</th>\n",
       "      <td>1000.0</td>\n",
       "      <td>0.50</td>\n",
       "      <td>4.026256</td>\n",
       "    </tr>\n",
       "    <tr>\n",
       "      <th>18</th>\n",
       "      <td>1000.0</td>\n",
       "      <td>0.70</td>\n",
       "      <td>3.981879</td>\n",
       "    </tr>\n",
       "    <tr>\n",
       "      <th>19</th>\n",
       "      <td>1000.0</td>\n",
       "      <td>1.00</td>\n",
       "      <td>3.997133</td>\n",
       "    </tr>\n",
       "    <tr>\n",
       "      <th>20</th>\n",
       "      <td>1000.0</td>\n",
       "      <td>2.00</td>\n",
       "      <td>4.604130</td>\n",
       "    </tr>\n",
       "    <tr>\n",
       "      <th>21</th>\n",
       "      <td>1000.0</td>\n",
       "      <td>5.00</td>\n",
       "      <td>8.712956</td>\n",
       "    </tr>\n",
       "    <tr>\n",
       "      <th>22</th>\n",
       "      <td>1000.0</td>\n",
       "      <td>7.00</td>\n",
       "      <td>8.949846</td>\n",
       "    </tr>\n",
       "    <tr>\n",
       "      <th>23</th>\n",
       "      <td>1000.0</td>\n",
       "      <td>10.00</td>\n",
       "      <td>8.905777</td>\n",
       "    </tr>\n",
       "    <tr>\n",
       "      <th>24</th>\n",
       "      <td>1000.0</td>\n",
       "      <td>20.00</td>\n",
       "      <td>8.700114</td>\n",
       "    </tr>\n",
       "    <tr>\n",
       "      <th>25</th>\n",
       "      <td>1000.0</td>\n",
       "      <td>50.00</td>\n",
       "      <td>8.684694</td>\n",
       "    </tr>\n",
       "    <tr>\n",
       "      <th>26</th>\n",
       "      <td>1000.0</td>\n",
       "      <td>70.00</td>\n",
       "      <td>10.716250</td>\n",
       "    </tr>\n",
       "    <tr>\n",
       "      <th>27</th>\n",
       "      <td>1000.0</td>\n",
       "      <td>100.00</td>\n",
       "      <td>9.125867</td>\n",
       "    </tr>\n",
       "  </tbody>\n",
       "</table>\n",
       "</div>"
      ],
      "text/plain": [
       "    num_points     eps  time_taken\n",
       "0        100.0    0.01    0.048771\n",
       "1        100.0    0.10    0.044729\n",
       "2        100.0    0.20    0.039506\n",
       "3        100.0    0.50    0.038775\n",
       "4        100.0    0.70    0.038763\n",
       "5        100.0    1.00    0.043771\n",
       "6        100.0    2.00    0.045126\n",
       "7        100.0    5.00    0.043366\n",
       "8        100.0    7.00    0.041805\n",
       "9        100.0   10.00    0.041279\n",
       "10       100.0   20.00    0.043607\n",
       "11       100.0   50.00    0.049361\n",
       "12       100.0   70.00    0.055327\n",
       "13       100.0  100.00    0.055775\n",
       "14      1000.0    0.01    3.957136\n",
       "15      1000.0    0.10    3.839509\n",
       "16      1000.0    0.20    3.855697\n",
       "17      1000.0    0.50    4.026256\n",
       "18      1000.0    0.70    3.981879\n",
       "19      1000.0    1.00    3.997133\n",
       "20      1000.0    2.00    4.604130\n",
       "21      1000.0    5.00    8.712956\n",
       "22      1000.0    7.00    8.949846\n",
       "23      1000.0   10.00    8.905777\n",
       "24      1000.0   20.00    8.700114\n",
       "25      1000.0   50.00    8.684694\n",
       "26      1000.0   70.00   10.716250\n",
       "27      1000.0  100.00    9.125867"
      ]
     },
     "execution_count": 49,
     "metadata": {},
     "output_type": "execute_result"
    }
   ],
   "source": [
    "time_df"
   ]
  },
  {
   "cell_type": "code",
   "execution_count": 50,
   "metadata": {},
   "outputs": [],
   "source": [
    "import seaborn as sns\n",
    "%matplotlib inline"
   ]
  },
  {
   "cell_type": "code",
   "execution_count": 51,
   "metadata": {},
   "outputs": [
    {
     "data": {
      "text/plain": [
       "<seaborn.axisgrid.FacetGrid at 0x7f3f9c6e9950>"
      ]
     },
     "execution_count": 51,
     "metadata": {},
     "output_type": "execute_result"
    },
    {
     "data": {
      "image/png": "[encoded data removed]",
      "text/plain": [
       "<matplotlib.figure.Figure at 0x7f3f9444f610>"
      ]
     },
     "metadata": {},
     "output_type": "display_data"
    }
   ],
   "source": [
    "sns.lmplot(x=\"num_points\", y=\"time_taken\", hue=\"eps\", data=time_df)"
   ]
  },
  {
   "cell_type": "code",
   "execution_count": null,
   "metadata": {},
   "outputs": [],
   "source": [
    "# In a nutshell above is the graph which shows how time taken linearly increases with the number of points. \n",
    "# Also, gettting the optimal eps is somewhat tedious as far as dbscan is concerned."
   ]
  },
  {
   "cell_type": "code",
   "execution_count": 52,
   "metadata": {},
   "outputs": [],
   "source": [
    "#The next part will explore FAISS to run the similarity of same data points"
   ]
  },
  {
   "cell_type": "code",
   "execution_count": 60,
   "metadata": {},
   "outputs": [],
   "source": [
    "# Example given in the documentation"
   ]
  },
  {
   "cell_type": "raw",
   "metadata": {},
   "source": [
    "We need two matrices:\n",
    "\n",
    "-- xb for the database, that contains all the vectors that must be indexed, and that we are going to search in. Its size is nb-by-d\n",
    "-- xq for the query vectors, for which we need to find the nearest neighbors. Its size is nq-by-d. If we have a single query vector, nq=1."
   ]
  },
  {
   "cell_type": "code",
   "execution_count": 65,
   "metadata": {},
   "outputs": [],
   "source": [
    "# For the sake of our case, the xb will be all the word vectors, or for the sake of simplicity can be the first 100,\n",
    "# 1000, or 10000 vectors as per our experimental needs\n",
    "# d which represents the dimension of the vectors will be 300\n",
    "# Faiss uses only 32-bit floating point matrices\n",
    "import faiss                   # make faiss available"
   ]
  },
  {
   "cell_type": "code",
   "execution_count": 66,
   "metadata": {},
   "outputs": [],
   "source": [
    "d = 300\n",
    "xb = mat[0:100,].astype('float32')\n",
    "xq = mat[0:100,].astype('float32')\n"
   ]
  },
  {
   "cell_type": "code",
   "execution_count": 67,
   "metadata": {},
   "outputs": [
    {
     "name": "stdout",
     "output_type": "stream",
     "text": [
      "True\n",
      "100\n",
      "0.0173690319061\n"
     ]
    }
   ],
   "source": [
    "#Building an index and adding the vectors to it\n",
    "start_time = timeit.default_timer()\n",
    "index = faiss.IndexFlatL2(d)   # build the index\n",
    "print index.is_trained\n",
    "index.add(xb)                  # add vectors to the index\n",
    "print index.ntotal\n",
    "time_taken = timeit.default_timer() - start_time\n",
    "print time_taken"
   ]
  },
  {
   "cell_type": "code",
   "execution_count": 68,
   "metadata": {},
   "outputs": [],
   "source": [
    "#Searching"
   ]
  },
  {
   "cell_type": "code",
   "execution_count": 69,
   "metadata": {},
   "outputs": [
    {
     "name": "stdout",
     "output_type": "stream",
     "text": [
      "0.0141949653625\n",
      "[[ 0 26 40 14]\n",
      " [ 1 79 22 52]\n",
      " [ 2 79 22 63]\n",
      " [ 3 22 11 79]\n",
      " [ 4 14 26 40]]\n",
      "[[  0.           7.63688564   7.93695307   8.06742764]\n",
      " [  0.           0.87420905   1.06439281   1.29742646]\n",
      " [  0.           1.90855575   1.97302008   2.0938282 ]\n",
      " [  0.          14.46333504  14.56112194  14.62785912]\n",
      " [  0.           0.6771577    0.97074127   1.04108286]]\n"
     ]
    }
   ],
   "source": [
    "# We will find the 4 nearest neighbors for these vectors\n",
    "k = 4                          # we want to see 4 nearest neighbors\n",
    "start_time = timeit.default_timer()\n",
    "D, I = index.search(xb[:5], k) # sanity check\n",
    "time_taken = timeit.default_timer() - start_time\n",
    "print time_taken\n",
    "print I\n",
    "print D"
   ]
  },
  {
   "cell_type": "code",
   "execution_count": 70,
   "metadata": {},
   "outputs": [],
   "source": [
    "#the nearest neighbor of each query is indeed the index of the vector, and the corresponding distance is 0.\n",
    "# For the first point the nearest neighbor has and index of 26, the next nearest is 40 and the next is 14\n",
    "# The corresponding approximate distances are mentioned in the array below."
   ]
  },
  {
   "cell_type": "code",
   "execution_count": 72,
   "metadata": {},
   "outputs": [
    {
     "name": "stdout",
     "output_type": "stream",
     "text": [
      "[[ 0 26 40 14]\n",
      " [ 1 79 22 52]\n",
      " [ 2 79 22 63]\n",
      " [ 3 22 11 79]\n",
      " [ 4 14 26 40]]\n",
      "[[95 91 98 96]\n",
      " [96 98 91  8]\n",
      " [97  8 98 94]\n",
      " [98  8 91 94]\n",
      " [99 98  8 63]]\n",
      "0.250288963318\n"
     ]
    }
   ],
   "source": [
    "start_time = timeit.default_timer()\n",
    "D, I = index.search(xq, k)     # actual search\n",
    "print I[:5]                    # neighbors of the 5 first queries\n",
    "print I[-5:]  \n",
    "time_taken = timeit.default_timer() - start_time\n",
    "print time_taken"
   ]
  },
  {
   "cell_type": "code",
   "execution_count": 73,
   "metadata": {},
   "outputs": [],
   "source": [
    "# Clearly doesnt take much once the index has been created."
   ]
  },
  {
   "cell_type": "code",
   "execution_count": 75,
   "metadata": {},
   "outputs": [
    {
     "data": {
      "text/plain": [
       "array([ 0, 26, 40, 14])"
      ]
     },
     "execution_count": 75,
     "metadata": {},
     "output_type": "execute_result"
    }
   ],
   "source": [
    "I[0]"
   ]
  },
  {
   "cell_type": "code",
   "execution_count": 76,
   "metadata": {},
   "outputs": [],
   "source": [
    "#I[0] gives the five nearest neighbors "
   ]
  },
  {
   "cell_type": "code",
   "execution_count": 84,
   "metadata": {},
   "outputs": [
    {
     "data": {
      "text/plain": [
       "array([ 0.        ,  7.6368866 ,  7.93695498,  8.06742954], dtype=float32)"
      ]
     },
     "execution_count": 84,
     "metadata": {},
     "output_type": "execute_result"
    }
   ],
   "source": [
    "D[0]"
   ]
  },
  {
   "cell_type": "code",
   "execution_count": 85,
   "metadata": {},
   "outputs": [],
   "source": [
    "# D[0] gives the distances for the nearest points including the point itself"
   ]
  },
  {
   "cell_type": "code",
   "execution_count": 87,
   "metadata": {},
   "outputs": [
    {
     "data": {
      "text/plain": [
       "7.6368866"
      ]
     },
     "execution_count": 87,
     "metadata": {},
     "output_type": "execute_result"
    }
   ],
   "source": [
    "D[0][1]"
   ]
  },
  {
   "cell_type": "code",
   "execution_count": 88,
   "metadata": {},
   "outputs": [],
   "source": [
    "# we do have a dummy distance. We now need to implement a dbscan. \n",
    "# D remains the dataset\n"
   ]
  },
  {
   "cell_type": "code",
   "execution_count": null,
   "metadata": {},
   "outputs": [],
   "source": [
    "# Based on this investigation, it seems that the dummy distances are pre calculated and hence there is meaning of \n",
    "# writing getting the distance all over again."
   ]
  }
 ],
 "metadata": {
  "kernelspec": {
   "display_name": "Python 2",
   "language": "python",
   "name": "python2"
  },
  "language_info": {
   "codemirror_mode": {
    "name": "ipython",
    "version": 2
   },
   "file_extension": ".py",
   "mimetype": "text/x-python",
   "name": "python",
   "nbconvert_exporter": "python",
   "pygments_lexer": "ipython2",
   "version": "2.7.12"
  }
 },
 "nbformat": 4,
 "nbformat_minor": 2
}
